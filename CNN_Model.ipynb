{
  "nbformat": 4,
  "nbformat_minor": 0,
  "metadata": {
    "colab": {
      "provenance": [],
      "authorship_tag": "ABX9TyMmqI1D9m8ANf7qfL3HgjIp",
      "include_colab_link": true
    },
    "kernelspec": {
      "name": "python3",
      "display_name": "Python 3"
    },
    "language_info": {
      "name": "python"
    }
  },
  "cells": [
    {
      "cell_type": "markdown",
      "metadata": {
        "id": "view-in-github",
        "colab_type": "text"
      },
      "source": [
        "<a href=\"https://colab.research.google.com/github/sheelasapkota59/CNN_Model/blob/main/CNN_Model.ipynb\" target=\"_parent\"><img src=\"https://colab.research.google.com/assets/colab-badge.svg\" alt=\"Open In Colab\"/></a>"
      ]
    },
    {
      "cell_type": "code",
      "execution_count": null,
      "metadata": {
        "colab": {
          "base_uri": "https://localhost:8080/"
        },
        "id": "-cy3ikSWe1wd",
        "outputId": "df93f120-acbd-4990-dae6-15e66ab1ae34"
      },
      "outputs": [
        {
          "output_type": "stream",
          "name": "stdout",
          "text": [
            "Requirement already satisfied: numpy in /usr/local/lib/python3.11/dist-packages (2.0.2)\n"
          ]
        }
      ],
      "source": [
        "!pip install numpy"
      ]
    },
    {
      "cell_type": "code",
      "source": [
        "!pip install tensorflow"
      ],
      "metadata": {
        "colab": {
          "base_uri": "https://localhost:8080/"
        },
        "id": "5INTGH1qfHWV",
        "outputId": "883ae2c6-0974-458e-f554-ac848c8ffcb5"
      },
      "execution_count": null,
      "outputs": [
        {
          "output_type": "stream",
          "name": "stdout",
          "text": [
            "Requirement already satisfied: tensorflow in /usr/local/lib/python3.11/dist-packages (2.18.0)\n",
            "Requirement already satisfied: absl-py>=1.0.0 in /usr/local/lib/python3.11/dist-packages (from tensorflow) (1.4.0)\n",
            "Requirement already satisfied: astunparse>=1.6.0 in /usr/local/lib/python3.11/dist-packages (from tensorflow) (1.6.3)\n",
            "Requirement already satisfied: flatbuffers>=24.3.25 in /usr/local/lib/python3.11/dist-packages (from tensorflow) (25.2.10)\n",
            "Requirement already satisfied: gast!=0.5.0,!=0.5.1,!=0.5.2,>=0.2.1 in /usr/local/lib/python3.11/dist-packages (from tensorflow) (0.6.0)\n",
            "Requirement already satisfied: google-pasta>=0.1.1 in /usr/local/lib/python3.11/dist-packages (from tensorflow) (0.2.0)\n",
            "Requirement already satisfied: libclang>=13.0.0 in /usr/local/lib/python3.11/dist-packages (from tensorflow) (18.1.1)\n",
            "Requirement already satisfied: opt-einsum>=2.3.2 in /usr/local/lib/python3.11/dist-packages (from tensorflow) (3.4.0)\n",
            "Requirement already satisfied: packaging in /usr/local/lib/python3.11/dist-packages (from tensorflow) (24.2)\n",
            "Requirement already satisfied: protobuf!=4.21.0,!=4.21.1,!=4.21.2,!=4.21.3,!=4.21.4,!=4.21.5,<6.0.0dev,>=3.20.3 in /usr/local/lib/python3.11/dist-packages (from tensorflow) (5.29.4)\n",
            "Requirement already satisfied: requests<3,>=2.21.0 in /usr/local/lib/python3.11/dist-packages (from tensorflow) (2.32.3)\n",
            "Requirement already satisfied: setuptools in /usr/local/lib/python3.11/dist-packages (from tensorflow) (75.1.0)\n",
            "Requirement already satisfied: six>=1.12.0 in /usr/local/lib/python3.11/dist-packages (from tensorflow) (1.17.0)\n",
            "Requirement already satisfied: termcolor>=1.1.0 in /usr/local/lib/python3.11/dist-packages (from tensorflow) (2.5.0)\n",
            "Requirement already satisfied: typing-extensions>=3.6.6 in /usr/local/lib/python3.11/dist-packages (from tensorflow) (4.12.2)\n",
            "Requirement already satisfied: wrapt>=1.11.0 in /usr/local/lib/python3.11/dist-packages (from tensorflow) (1.17.2)\n",
            "Requirement already satisfied: grpcio<2.0,>=1.24.3 in /usr/local/lib/python3.11/dist-packages (from tensorflow) (1.71.0)\n",
            "Requirement already satisfied: tensorboard<2.19,>=2.18 in /usr/local/lib/python3.11/dist-packages (from tensorflow) (2.18.0)\n",
            "Requirement already satisfied: keras>=3.5.0 in /usr/local/lib/python3.11/dist-packages (from tensorflow) (3.8.0)\n",
            "Requirement already satisfied: numpy<2.1.0,>=1.26.0 in /usr/local/lib/python3.11/dist-packages (from tensorflow) (2.0.2)\n",
            "Requirement already satisfied: h5py>=3.11.0 in /usr/local/lib/python3.11/dist-packages (from tensorflow) (3.13.0)\n",
            "Requirement already satisfied: ml-dtypes<0.5.0,>=0.4.0 in /usr/local/lib/python3.11/dist-packages (from tensorflow) (0.4.1)\n",
            "Requirement already satisfied: tensorflow-io-gcs-filesystem>=0.23.1 in /usr/local/lib/python3.11/dist-packages (from tensorflow) (0.37.1)\n",
            "Requirement already satisfied: wheel<1.0,>=0.23.0 in /usr/local/lib/python3.11/dist-packages (from astunparse>=1.6.0->tensorflow) (0.45.1)\n",
            "Requirement already satisfied: rich in /usr/local/lib/python3.11/dist-packages (from keras>=3.5.0->tensorflow) (13.9.4)\n",
            "Requirement already satisfied: namex in /usr/local/lib/python3.11/dist-packages (from keras>=3.5.0->tensorflow) (0.0.8)\n",
            "Requirement already satisfied: optree in /usr/local/lib/python3.11/dist-packages (from keras>=3.5.0->tensorflow) (0.14.1)\n",
            "Requirement already satisfied: charset-normalizer<4,>=2 in /usr/local/lib/python3.11/dist-packages (from requests<3,>=2.21.0->tensorflow) (3.4.1)\n",
            "Requirement already satisfied: idna<4,>=2.5 in /usr/local/lib/python3.11/dist-packages (from requests<3,>=2.21.0->tensorflow) (3.10)\n",
            "Requirement already satisfied: urllib3<3,>=1.21.1 in /usr/local/lib/python3.11/dist-packages (from requests<3,>=2.21.0->tensorflow) (2.3.0)\n",
            "Requirement already satisfied: certifi>=2017.4.17 in /usr/local/lib/python3.11/dist-packages (from requests<3,>=2.21.0->tensorflow) (2025.1.31)\n",
            "Requirement already satisfied: markdown>=2.6.8 in /usr/local/lib/python3.11/dist-packages (from tensorboard<2.19,>=2.18->tensorflow) (3.7)\n",
            "Requirement already satisfied: tensorboard-data-server<0.8.0,>=0.7.0 in /usr/local/lib/python3.11/dist-packages (from tensorboard<2.19,>=2.18->tensorflow) (0.7.2)\n",
            "Requirement already satisfied: werkzeug>=1.0.1 in /usr/local/lib/python3.11/dist-packages (from tensorboard<2.19,>=2.18->tensorflow) (3.1.3)\n",
            "Requirement already satisfied: MarkupSafe>=2.1.1 in /usr/local/lib/python3.11/dist-packages (from werkzeug>=1.0.1->tensorboard<2.19,>=2.18->tensorflow) (3.0.2)\n",
            "Requirement already satisfied: markdown-it-py>=2.2.0 in /usr/local/lib/python3.11/dist-packages (from rich->keras>=3.5.0->tensorflow) (3.0.0)\n",
            "Requirement already satisfied: pygments<3.0.0,>=2.13.0 in /usr/local/lib/python3.11/dist-packages (from rich->keras>=3.5.0->tensorflow) (2.18.0)\n",
            "Requirement already satisfied: mdurl~=0.1 in /usr/local/lib/python3.11/dist-packages (from markdown-it-py>=2.2.0->rich->keras>=3.5.0->tensorflow) (0.1.2)\n"
          ]
        }
      ]
    },
    {
      "cell_type": "code",
      "source": [
        "import cv2\n",
        "import numpy as np\n",
        "import tensorflow as tf\n",
        "from tensorflow.keras.layers import Input, Lambda, Dense\n",
        "from tensorflow.keras.models import Model\n",
        "from tensorflow.keras.applications import ResNet50\n",
        "from tensorflow.keras.applications.resnet50 import preprocess_input\n",
        "from tensorflow.keras.optimizers import Adam\n",
        "from tensorflow.keras.losses import BinaryCrossentropy\n",
        "from sklearn.metrics import accuracy_score, precision_score, recall_score, f1_score\n",
        "import os"
      ],
      "metadata": {
        "id": "fdotylRGfNBK"
      },
      "execution_count": null,
      "outputs": []
    },
    {
      "cell_type": "code",
      "source": [
        "#load preitrained ResNet50 as feature extractor\n",
        "# The final output will be a 1D vector representing the high-level features of the image extracted\n",
        "# by the ResNet50 model, which you can use for tasks like feature comparison, similarity calculation,\n",
        "# or as input to another model.\n",
        "\n",
        "base_model = ResNet50(weights = \"imagenet\" , include_top = False , pooling = \"avg\")\n",
        "\n",
        "# feature extraction\n",
        "def extract_feature(image_path_past, image_path_present):\n",
        "  \"\"\"extract feature from image using resnet50\"\"\"\n",
        "  present_img = cv2.imread(image_path_present) # Load image\n",
        "  if not os.path.exists(image_path_present):\n",
        "        raise ValueError(f\"Image not found: {image_path_present}\")\n",
        "\n",
        "  past_img = cv2.imread(image_path_past )\n",
        "  if not os.path.exists(image_path_past):\n",
        "        raise ValueError(f\"Image not found: {image_path_past}\")\n",
        "\n",
        "\n",
        "  present_img = cv2.resize(present_img , (224 , 224)) # Resize present img to match ResNet50 input size\n",
        "  past_img = cv2.resize(past_img , (224, 224))  # Resize past img to match ResNet50 input size\n",
        "\n",
        "  present_img = preprocess_input(present_img)  # Preprocess image for ResNet50 (scaling pixel values)\n",
        "  past_img = preprocess_input(past_img)\n",
        "\n",
        "  present_img = np.expand_dims(present_img, axis = 0) # Add batch dimension\n",
        "  past_img = np.expand_dims(past_img, axis = 0)\n",
        "\n",
        " # Combine the two images into a batch\n",
        "  batch = np.concatenate((past_img , present_img) , axis =0) # Shape becomes (2, 224, 224, 3)\n",
        "\n",
        "  features_batch = base_model.predict(batch)  # Get features from ResNet50\n",
        "\n",
        "  # Return features for both images as flattened vectors(1D vector)\n",
        "  past_features = features_batch[0].flatten()\n",
        "  present_features = features_batch[1].flatten()\n",
        "\n",
        "  return past_features , present_features    #define siamese network\n",
        "\n"
      ],
      "metadata": {
        "id": "pISUVJKTfaJC"
      },
      "execution_count": null,
      "outputs": []
    },
    {
      "cell_type": "code",
      "source": [
        "def build_siamese_network():\n",
        "  input_shape = (2048,)\n",
        "\n",
        "  #input layers for two images\n",
        "  present_A = Input(shape = input_shape)\n",
        "  past_A = Input(shape = input_shape)\n",
        "\n",
        "#calculate absolute differences between feature vectors\n",
        "  l1_layer = Lambda(lambda tensors : tf.abs(tensors[0] - tensors[1]))\n",
        "  l1_distance = l1_layer([present_A , past_A])\n",
        "\n",
        "  #final classification layer\n",
        "  output = Dense(1 , activation=  \"sigmoid\")(l1_distance) # Sigmoid for similarity (0 or 1)\n",
        "\n",
        "  #define siamese model\n",
        "  model = Model(inputs=[present_A , past_A] , outputs=output)\n",
        "  model.compile(loss=\"binary_crossentropy\" , optimizer= \"adam\" , metrics=[\"accuracy\"])\n",
        "\n",
        "  return model\n",
        "\n"
      ],
      "metadata": {
        "id": "kSCVhBHgfkgK"
      },
      "execution_count": null,
      "outputs": []
    },
    {
      "cell_type": "code",
      "source": [
        "data_folder_old = \"/content/CNN/road1.png\"\n",
        "data_folder_new = \"/content/CNN/road2.png\"\n",
        "\n",
        "past_img = [data_folder_old]\n",
        "present_img = [data_folder_new]\n",
        "\n",
        "# # Now, you can proceed with loading the images using these paths\n",
        "# f1 = extract_feature(past_img)\n",
        "# f2 = extract_feature(present_img)\n",
        "\n",
        "\n",
        "x1 , x2 , y = [] , [] ,[]\n",
        "\n",
        "#prepare dataset for training\n",
        "for old_img in past_img:\n",
        "  for new_img in  present_img:\n",
        "    f1 , f2  = extract_feature(old_img , new_img)\n",
        "    #  f2 = extract_feature(new_img)\n",
        "    similarity_score = np.linalg.norm(f1-f2)  # Euclidean Distance\n",
        "\n",
        "    x1.append(f1)\n",
        "    x2.append(f2)\n",
        "    y.append(1 if similarity_score < 100 else 0) # Label as similar if below threshold\n"
      ],
      "metadata": {
        "colab": {
          "base_uri": "https://localhost:8080/"
        },
        "id": "7JW22TnEgHMU",
        "outputId": "94e6f430-3893-428b-d22a-21d94dee38c3"
      },
      "execution_count": null,
      "outputs": [
        {
          "output_type": "stream",
          "name": "stdout",
          "text": [
            "\u001b[1m1/1\u001b[0m \u001b[32m━━━━━━━━━━━━━━━━━━━━\u001b[0m\u001b[37m\u001b[0m \u001b[1m2s\u001b[0m 2s/step\n"
          ]
        }
      ]
    },
    {
      "cell_type": "code",
      "source": [
        "#convert to numpy arrays\n",
        "x1 , x2, y = np.array(x1) , np.array(x2) , np.array(y)\n",
        "\n",
        "#build and train siamese model\n",
        "siamese_model = build_siamese_network()\n",
        "siamese_model.fit([x1 , x2] , y , epochs = 18 , batch_size = 2 )\n",
        "\n",
        "#evaluation model\n",
        "y_pred = siamese_model.predict([x1 , x2])\n",
        "y_pred = (y_pred > 0.5).astype(int)\n",
        "\n",
        "accuracy = accuracy_score(y , y_pred)\n",
        "precision = precision_score(y , y_pred)\n",
        "recall = recall_score (y , y_pred)\n",
        "f1 = f1_score(y , y_pred)\n",
        "\n",
        "print(f\"model evaluation : Accuracy= {accuracy:.2f}, Precision={precision: .2f},Recall={recall:.2f}, F1-score={f1:.2f}\")\n"
      ],
      "metadata": {
        "colab": {
          "base_uri": "https://localhost:8080/"
        },
        "id": "NB4Ef4vShhVU",
        "outputId": "5ed1f7cd-7765-47a9-a137-c85ff0eaf49e"
      },
      "execution_count": null,
      "outputs": [
        {
          "output_type": "stream",
          "name": "stdout",
          "text": [
            "Epoch 1/18\n",
            "\u001b[1m1/1\u001b[0m \u001b[32m━━━━━━━━━━━━━━━━━━━━\u001b[0m\u001b[37m\u001b[0m \u001b[1m2s\u001b[0m 2s/step - accuracy: 0.0000e+00 - loss: 0.7427\n",
            "Epoch 2/18\n",
            "\u001b[1m1/1\u001b[0m \u001b[32m━━━━━━━━━━━━━━━━━━━━\u001b[0m\u001b[37m\u001b[0m \u001b[1m0s\u001b[0m 147ms/step - accuracy: 1.0000 - loss: 0.5903\n",
            "Epoch 3/18\n",
            "\u001b[1m1/1\u001b[0m \u001b[32m━━━━━━━━━━━━━━━━━━━━\u001b[0m\u001b[37m\u001b[0m \u001b[1m0s\u001b[0m 246ms/step - accuracy: 1.0000 - loss: 0.4630\n",
            "Epoch 4/18\n",
            "\u001b[1m1/1\u001b[0m \u001b[32m━━━━━━━━━━━━━━━━━━━━\u001b[0m\u001b[37m\u001b[0m \u001b[1m0s\u001b[0m 181ms/step - accuracy: 1.0000 - loss: 0.3597\n",
            "Epoch 5/18\n",
            "\u001b[1m1/1\u001b[0m \u001b[32m━━━━━━━━━━━━━━━━━━━━\u001b[0m\u001b[37m\u001b[0m \u001b[1m0s\u001b[0m 222ms/step - accuracy: 1.0000 - loss: 0.2779\n",
            "Epoch 6/18\n",
            "\u001b[1m1/1\u001b[0m \u001b[32m━━━━━━━━━━━━━━━━━━━━\u001b[0m\u001b[37m\u001b[0m \u001b[1m0s\u001b[0m 165ms/step - accuracy: 1.0000 - loss: 0.2145\n",
            "Epoch 7/18\n",
            "\u001b[1m1/1\u001b[0m \u001b[32m━━━━━━━━━━━━━━━━━━━━\u001b[0m\u001b[37m\u001b[0m \u001b[1m0s\u001b[0m 117ms/step - accuracy: 1.0000 - loss: 0.1660\n",
            "Epoch 8/18\n",
            "\u001b[1m1/1\u001b[0m \u001b[32m━━━━━━━━━━━━━━━━━━━━\u001b[0m\u001b[37m\u001b[0m \u001b[1m0s\u001b[0m 92ms/step - accuracy: 1.0000 - loss: 0.1293\n",
            "Epoch 9/18\n",
            "\u001b[1m1/1\u001b[0m \u001b[32m━━━━━━━━━━━━━━━━━━━━\u001b[0m\u001b[37m\u001b[0m \u001b[1m0s\u001b[0m 93ms/step - accuracy: 1.0000 - loss: 0.1015\n",
            "Epoch 10/18\n",
            "\u001b[1m1/1\u001b[0m \u001b[32m━━━━━━━━━━━━━━━━━━━━\u001b[0m\u001b[37m\u001b[0m \u001b[1m0s\u001b[0m 117ms/step - accuracy: 1.0000 - loss: 0.0805\n",
            "Epoch 11/18\n",
            "\u001b[1m1/1\u001b[0m \u001b[32m━━━━━━━━━━━━━━━━━━━━\u001b[0m\u001b[37m\u001b[0m \u001b[1m0s\u001b[0m 71ms/step - accuracy: 1.0000 - loss: 0.0646\n",
            "Epoch 12/18\n",
            "\u001b[1m1/1\u001b[0m \u001b[32m━━━━━━━━━━━━━━━━━━━━\u001b[0m\u001b[37m\u001b[0m \u001b[1m0s\u001b[0m 149ms/step - accuracy: 1.0000 - loss: 0.0525\n",
            "Epoch 13/18\n",
            "\u001b[1m1/1\u001b[0m \u001b[32m━━━━━━━━━━━━━━━━━━━━\u001b[0m\u001b[37m\u001b[0m \u001b[1m0s\u001b[0m 71ms/step - accuracy: 1.0000 - loss: 0.0432\n",
            "Epoch 14/18\n",
            "\u001b[1m1/1\u001b[0m \u001b[32m━━━━━━━━━━━━━━━━━━━━\u001b[0m\u001b[37m\u001b[0m \u001b[1m0s\u001b[0m 131ms/step - accuracy: 1.0000 - loss: 0.0359\n",
            "Epoch 15/18\n",
            "\u001b[1m1/1\u001b[0m \u001b[32m━━━━━━━━━━━━━━━━━━━━\u001b[0m\u001b[37m\u001b[0m \u001b[1m0s\u001b[0m 89ms/step - accuracy: 1.0000 - loss: 0.0302\n",
            "Epoch 16/18\n",
            "\u001b[1m1/1\u001b[0m \u001b[32m━━━━━━━━━━━━━━━━━━━━\u001b[0m\u001b[37m\u001b[0m \u001b[1m0s\u001b[0m 143ms/step - accuracy: 1.0000 - loss: 0.0257\n",
            "Epoch 17/18\n",
            "\u001b[1m1/1\u001b[0m \u001b[32m━━━━━━━━━━━━━━━━━━━━\u001b[0m\u001b[37m\u001b[0m \u001b[1m0s\u001b[0m 169ms/step - accuracy: 1.0000 - loss: 0.0221\n",
            "Epoch 18/18\n",
            "\u001b[1m1/1\u001b[0m \u001b[32m━━━━━━━━━━━━━━━━━━━━\u001b[0m\u001b[37m\u001b[0m \u001b[1m0s\u001b[0m 339ms/step - accuracy: 1.0000 - loss: 0.0192\n",
            "\u001b[1m1/1\u001b[0m \u001b[32m━━━━━━━━━━━━━━━━━━━━\u001b[0m\u001b[37m\u001b[0m \u001b[1m0s\u001b[0m 60ms/step\n",
            "model evaluation : Accuracy= 1.00, Precision= 1.00,Recall=1.00, F1-score=1.00\n"
          ]
        }
      ]
    },
    {
      "cell_type": "code",
      "source": [
        "#auto label assignment\n",
        "for i , new_imgs in enumerate(present_img):\n",
        "  for old_imgs in past_img:\n",
        "    f1, f2 = extract_feature(new_img, old_img)\n",
        "\n",
        "    # Reshape f1 and f2 to add batch dimension\n",
        "    f1 = np.expand_dims(f1, axis=0)\n",
        "    f2 = np.expand_dims(f2, axis=0)\n",
        "\n",
        "    prediction = siamese_model.predict([[f1] , [f2]])[0][0]\n",
        "\n",
        "    if prediction > 0.85:   # If high similarity, assign label\n",
        "      print(f\"Label Assignment: {os.path.basename(new_imgs)} -> {os.path.basename(old_imgs)}\")"
      ],
      "metadata": {
        "colab": {
          "base_uri": "https://localhost:8080/"
        },
        "id": "iZiXFB1_mHRA",
        "outputId": "b1eb4153-4b62-4585-c8a4-2c53e1827c55"
      },
      "execution_count": null,
      "outputs": [
        {
          "output_type": "stream",
          "name": "stderr",
          "text": [
            "WARNING:tensorflow:5 out of the last 5 calls to <function TensorFlowTrainer.make_predict_function.<locals>.one_step_on_data_distributed at 0x7c694c404860> triggered tf.function retracing. Tracing is expensive and the excessive number of tracings could be due to (1) creating @tf.function repeatedly in a loop, (2) passing tensors with different shapes, (3) passing Python objects instead of tensors. For (1), please define your @tf.function outside of the loop. For (2), @tf.function has reduce_retracing=True option that can avoid unnecessary retracing. For (3), please refer to https://www.tensorflow.org/guide/function#controlling_retracing and https://www.tensorflow.org/api_docs/python/tf/function for  more details.\n"
          ]
        },
        {
          "output_type": "stream",
          "name": "stdout",
          "text": [
            "\u001b[1m1/1\u001b[0m \u001b[32m━━━━━━━━━━━━━━━━━━━━\u001b[0m\u001b[37m\u001b[0m \u001b[1m2s\u001b[0m 2s/step\n"
          ]
        },
        {
          "output_type": "stream",
          "name": "stderr",
          "text": [
            "/usr/local/lib/python3.11/dist-packages/keras/src/models/functional.py:237: UserWarning: The structure of `inputs` doesn't match the expected structure.\n",
            "Expected: ['keras_tensor_895', 'keras_tensor_896']\n",
            "Received: inputs=(('Tensor(shape=(1, 2048))',), ('Tensor(shape=(1, 2048))',))\n",
            "  warnings.warn(msg)\n",
            "WARNING:tensorflow:6 out of the last 6 calls to <function TensorFlowTrainer.make_predict_function.<locals>.one_step_on_data_distributed at 0x7c694b7b9260> triggered tf.function retracing. Tracing is expensive and the excessive number of tracings could be due to (1) creating @tf.function repeatedly in a loop, (2) passing tensors with different shapes, (3) passing Python objects instead of tensors. For (1), please define your @tf.function outside of the loop. For (2), @tf.function has reduce_retracing=True option that can avoid unnecessary retracing. For (3), please refer to https://www.tensorflow.org/guide/function#controlling_retracing and https://www.tensorflow.org/api_docs/python/tf/function for  more details.\n"
          ]
        },
        {
          "output_type": "stream",
          "name": "stdout",
          "text": [
            "\u001b[1m1/1\u001b[0m \u001b[32m━━━━━━━━━━━━━━━━━━━━\u001b[0m\u001b[37m\u001b[0m \u001b[1m0s\u001b[0m 70ms/step\n",
            "Label Assignment: road2.png -> road1.png\n"
          ]
        }
      ]
    }
  ]
}